{
  "nbformat": 4,
  "nbformat_minor": 0,
  "metadata": {
    "kernelspec": {
      "name": "python3",
      "display_name": "Python 3"
    },
    "colab": {
      "name": "도시계획_주차면수 추가.ipynb",
      "provenance": [],
      "collapsed_sections": []
    },
    "accelerator": "GPU"
  },
  "cells": [
    {
      "cell_type": "code",
      "metadata": {
        "id": "mTMJ-OdTCGbc"
      },
      "source": [
        "#주석풀고 설치해주면 colab에서 geopandas가 돌아갑니다!\n",
        "\n",
        "import requests\n",
        "import zipfile\n",
        "\n",
        "\n",
        "def save_file(url, file_name):\n",
        "  r = requests.get(url)\n",
        "  with open(file_name, 'wb') as f:\n",
        "    f.write(r.content)\n",
        "\n",
        "    \n",
        "save_file('https://courses.cs.washington.edu/courses/cse163/19sp/' +\n",
        "          'files/lectures/05-13/data.zip', 'data.zip')\n",
        "save_file('https://courses.cs.washington.edu/courses/cse163/19sp/' +\n",
        "          'files/lectures/05-13/gz_2010_us_040_00_5m.json', \n",
        "          'gz_2010_us_040_00_5m.json')\n",
        "save_file('https://courses.cs.washington.edu/courses/cse163/19sp/' +\n",
        "          'files/lectures/05-13/stormhistory.csv', 'stormhistory.csv')\n",
        "\n",
        "with zipfile.ZipFile(\"data.zip\",\"r\") as zip_ref:\n",
        "    zip_ref.extractall()\n",
        "    \n",
        "!pip install --upgrade geopandas\n",
        "!pip install --upgrade pyshp\n",
        "!pip install --upgrade shapely\n",
        "!pip install --upgrade descartes"
      ],
      "execution_count": null,
      "outputs": []
    },
    {
      "cell_type": "code",
      "metadata": {
        "id": "12Bbf7QMBjCV"
      },
      "source": [
        "import pathlib\n",
        "import numpy as np\n",
        "import pandas as pd\n",
        "import geopandas as gpd\n",
        "import matplotlib.pyplot as plt\n",
        "from shapely.geometry import Polygon, LineString, Point\n",
        "import descartes"
      ],
      "execution_count": 2,
      "outputs": []
    },
    {
      "cell_type": "code",
      "metadata": {
        "id": "MGJYNorFC7bd",
        "outputId": "264cf65f-4a84-4131-c3cd-10ca8780b689",
        "colab": {
          "base_uri": "https://localhost:8080/",
          "height": 35
        }
      },
      "source": [
        "from google.colab import drive\n",
        "drive.mount('/content/drive')"
      ],
      "execution_count": 3,
      "outputs": [
        {
          "output_type": "stream",
          "text": [
            "Mounted at /content/drive\n"
          ],
          "name": "stdout"
        }
      ]
    },
    {
      "cell_type": "code",
      "metadata": {
        "id": "qd88LdW6C7kV",
        "outputId": "3baec87c-4707-4886-f31e-ccfdf7991a5f",
        "colab": {
          "base_uri": "https://localhost:8080/",
          "height": 35
        }
      },
      "source": [
        "%cd /content/drive/My\\ Drive/compas2020/data"
      ],
      "execution_count": 4,
      "outputs": [
        {
          "output_type": "stream",
          "text": [
            "/content/drive/My Drive/compas2020/data\n"
          ],
          "name": "stdout"
        }
      ]
    },
    {
      "cell_type": "code",
      "metadata": {
        "id": "bKwCIAlnsdVr",
        "outputId": "2af273d9-599f-4b85-9ec3-478b84ddb4eb",
        "colab": {
          "base_uri": "https://localhost:8080/",
          "height": 419
        }
      },
      "source": [
        "final_parkinglot = pd.read_csv('광양시_주차장_공간정보_전처리.csv')\n",
        "final_parkinglot"
      ],
      "execution_count": 18,
      "outputs": [
        {
          "output_type": "execute_result",
          "data": {
            "text/html": [
              "<div>\n",
              "<style scoped>\n",
              "    .dataframe tbody tr th:only-of-type {\n",
              "        vertical-align: middle;\n",
              "    }\n",
              "\n",
              "    .dataframe tbody tr th {\n",
              "        vertical-align: top;\n",
              "    }\n",
              "\n",
              "    .dataframe thead th {\n",
              "        text-align: right;\n",
              "    }\n",
              "</style>\n",
              "<table border=\"1\" class=\"dataframe\">\n",
              "  <thead>\n",
              "    <tr style=\"text-align: right;\">\n",
              "      <th></th>\n",
              "      <th>Unnamed: 0</th>\n",
              "      <th>주차장명칭</th>\n",
              "      <th>구분</th>\n",
              "      <th>DGM_AR</th>\n",
              "      <th>주차면수</th>\n",
              "      <th>유료/무료</th>\n",
              "      <th>주소</th>\n",
              "      <th>lon</th>\n",
              "      <th>lat</th>\n",
              "      <th>geometry</th>\n",
              "      <th>category</th>\n",
              "      <th>소유주체</th>\n",
              "    </tr>\n",
              "  </thead>\n",
              "  <tbody>\n",
              "    <tr>\n",
              "      <th>0</th>\n",
              "      <td>0</td>\n",
              "      <td>인동숲앞 주차장</td>\n",
              "      <td>노외</td>\n",
              "      <td>4189.0</td>\n",
              "      <td>161.0</td>\n",
              "      <td>유료</td>\n",
              "      <td>인서리 237-1</td>\n",
              "      <td>127.586883</td>\n",
              "      <td>34.970324</td>\n",
              "      <td>POINT (127.5868828 34.97032367)</td>\n",
              "      <td>주차장</td>\n",
              "      <td>군유지</td>\n",
              "    </tr>\n",
              "    <tr>\n",
              "      <th>1</th>\n",
              "      <td>1</td>\n",
              "      <td>구터미널주차장</td>\n",
              "      <td>노외</td>\n",
              "      <td>2968.0</td>\n",
              "      <td>125.0</td>\n",
              "      <td>유료</td>\n",
              "      <td>중동 1651</td>\n",
              "      <td>127.695428</td>\n",
              "      <td>34.936252</td>\n",
              "      <td>POINT (127.6954279 34.93625189999999)</td>\n",
              "      <td>주차장</td>\n",
              "      <td>군유지</td>\n",
              "    </tr>\n",
              "    <tr>\n",
              "      <th>2</th>\n",
              "      <td>2</td>\n",
              "      <td>구경찰서 주차장</td>\n",
              "      <td>노외</td>\n",
              "      <td>2836.0</td>\n",
              "      <td>89.0</td>\n",
              "      <td>무료</td>\n",
              "      <td>읍내리 227-1</td>\n",
              "      <td>127.584586</td>\n",
              "      <td>34.975637</td>\n",
              "      <td>POINT (127.5845858 34.97563677)</td>\n",
              "      <td>주차장</td>\n",
              "      <td>군유지</td>\n",
              "    </tr>\n",
              "    <tr>\n",
              "      <th>3</th>\n",
              "      <td>3</td>\n",
              "      <td>칠성1지구</td>\n",
              "      <td>노외</td>\n",
              "      <td>1980.0</td>\n",
              "      <td>52.0</td>\n",
              "      <td>무료</td>\n",
              "      <td>칠성리 962-1</td>\n",
              "      <td>127.580683</td>\n",
              "      <td>34.970130</td>\n",
              "      <td>POINT (127.5806828 34.97013011)</td>\n",
              "      <td>주차장</td>\n",
              "      <td>군유지</td>\n",
              "    </tr>\n",
              "    <tr>\n",
              "      <th>4</th>\n",
              "      <td>4</td>\n",
              "      <td>칠성1지구</td>\n",
              "      <td>노외</td>\n",
              "      <td>1970.0</td>\n",
              "      <td>64.0</td>\n",
              "      <td>무료</td>\n",
              "      <td>칠성리 948-1</td>\n",
              "      <td>127.580707</td>\n",
              "      <td>34.972523</td>\n",
              "      <td>POINT (127.5807067 34.97252282)</td>\n",
              "      <td>주차장</td>\n",
              "      <td>군유지</td>\n",
              "    </tr>\n",
              "    <tr>\n",
              "      <th>...</th>\n",
              "      <td>...</td>\n",
              "      <td>...</td>\n",
              "      <td>...</td>\n",
              "      <td>...</td>\n",
              "      <td>...</td>\n",
              "      <td>...</td>\n",
              "      <td>...</td>\n",
              "      <td>...</td>\n",
              "      <td>...</td>\n",
              "      <td>...</td>\n",
              "      <td>...</td>\n",
              "      <td>...</td>\n",
              "    </tr>\n",
              "    <tr>\n",
              "      <th>230</th>\n",
              "      <td>230</td>\n",
              "      <td>포석정위도로변</td>\n",
              "      <td>피서지</td>\n",
              "      <td>264.0</td>\n",
              "      <td>10.0</td>\n",
              "      <td>무료</td>\n",
              "      <td>동곡리 662-1</td>\n",
              "      <td>127.604822</td>\n",
              "      <td>35.079214</td>\n",
              "      <td>POINT (127.6048219 35.07921402)</td>\n",
              "      <td>주차장</td>\n",
              "      <td>군유지</td>\n",
              "    </tr>\n",
              "    <tr>\n",
              "      <th>231</th>\n",
              "      <td>231</td>\n",
              "      <td>동곡산장옆</td>\n",
              "      <td>피서지</td>\n",
              "      <td>1212.0</td>\n",
              "      <td>60.0</td>\n",
              "      <td>무료</td>\n",
              "      <td>동곡리 549</td>\n",
              "      <td>127.613417</td>\n",
              "      <td>35.070673</td>\n",
              "      <td>POINT (127.6134168 35.07067277)</td>\n",
              "      <td>주차장</td>\n",
              "      <td>군유지</td>\n",
              "    </tr>\n",
              "    <tr>\n",
              "      <th>232</th>\n",
              "      <td>232</td>\n",
              "      <td>하천첨주변</td>\n",
              "      <td>피서지</td>\n",
              "      <td>2381.0</td>\n",
              "      <td>96.0</td>\n",
              "      <td>무료</td>\n",
              "      <td>산남리 154-4</td>\n",
              "      <td>127.611774</td>\n",
              "      <td>35.002759</td>\n",
              "      <td>POINT (127.6117741 35.00275939)</td>\n",
              "      <td>주차장</td>\n",
              "      <td>개인</td>\n",
              "    </tr>\n",
              "    <tr>\n",
              "      <th>233</th>\n",
              "      <td>233</td>\n",
              "      <td>회계분교</td>\n",
              "      <td>피서지</td>\n",
              "      <td>2090.0</td>\n",
              "      <td>66.0</td>\n",
              "      <td>무료</td>\n",
              "      <td>진상 어치 1140</td>\n",
              "      <td>127.674719</td>\n",
              "      <td>35.092388</td>\n",
              "      <td>POINT (127.6747186 35.09238804)</td>\n",
              "      <td>주차장</td>\n",
              "      <td>군유지</td>\n",
              "    </tr>\n",
              "    <tr>\n",
              "      <th>234</th>\n",
              "      <td>234</td>\n",
              "      <td>회두마을입구</td>\n",
              "      <td>피서지</td>\n",
              "      <td>827.0</td>\n",
              "      <td>30.0</td>\n",
              "      <td>무료</td>\n",
              "      <td>진상 어치 914</td>\n",
              "      <td>127.676139</td>\n",
              "      <td>35.090000</td>\n",
              "      <td>POINT (127.6761387 35.08999996)</td>\n",
              "      <td>주차장</td>\n",
              "      <td>국유지</td>\n",
              "    </tr>\n",
              "  </tbody>\n",
              "</table>\n",
              "<p>235 rows × 12 columns</p>\n",
              "</div>"
            ],
            "text/plain": [
              "     Unnamed: 0     주차장명칭  ... category  소유주체\n",
              "0             0  인동숲앞 주차장  ...      주차장   군유지\n",
              "1             1   구터미널주차장  ...      주차장   군유지\n",
              "2             2  구경찰서 주차장  ...      주차장   군유지\n",
              "3             3     칠성1지구  ...      주차장   군유지\n",
              "4             4     칠성1지구  ...      주차장   군유지\n",
              "..          ...       ...  ...      ...   ...\n",
              "230         230   포석정위도로변  ...      주차장   군유지\n",
              "231         231     동곡산장옆  ...      주차장   군유지\n",
              "232         232     하천첨주변  ...      주차장    개인\n",
              "233         233      회계분교  ...      주차장   군유지\n",
              "234         234    회두마을입구  ...      주차장   국유지\n",
              "\n",
              "[235 rows x 12 columns]"
            ]
          },
          "metadata": {
            "tags": []
          },
          "execution_count": 18
        }
      ]
    },
    {
      "cell_type": "code",
      "metadata": {
        "id": "8217nv2su1KB",
        "outputId": "723a22b2-466e-4f0f-cc2d-51c5b8b4dc47",
        "colab": {
          "base_uri": "https://localhost:8080/",
          "height": 35
        }
      },
      "source": [
        "a = final_parkinglot['DGM_AR']\n",
        "s = set()\n",
        "for i in a:\n",
        "  if str(i) == \"nan\":\n",
        "    pass\n",
        "  else:\n",
        "    z = len(str(int(i)))\n",
        "    s.add(z)\n",
        "s"
      ],
      "execution_count": 179,
      "outputs": [
        {
          "output_type": "execute_result",
          "data": {
            "text/plain": [
              "{2, 3, 4, 5}"
            ]
          },
          "metadata": {
            "tags": []
          },
          "execution_count": 179
        }
      ]
    },
    {
      "cell_type": "code",
      "metadata": {
        "id": "1BBL5-z87lYd",
        "outputId": "0ef9b8df-8290-42fd-dd72-cf8381588e4a",
        "colab": {
          "base_uri": "https://localhost:8080/",
          "height": 35
        }
      },
      "source": [
        "head =[]\n",
        "\n",
        "#index 0~3까지는 각 면적의 자릿수+ 앞자리 별 개수, 4~7까지는 각 면적의 자릿수+ 앞자리 계신 값 들의 sum \n",
        "for i in range(len(s)+4):\n",
        "  head.append([0,0,0,0,0,0,0,0,0,0])\n",
        "print(head)"
      ],
      "execution_count": 180,
      "outputs": [
        {
          "output_type": "stream",
          "text": [
            "[[0, 0, 0, 0, 0, 0, 0, 0, 0, 0], [0, 0, 0, 0, 0, 0, 0, 0, 0, 0], [0, 0, 0, 0, 0, 0, 0, 0, 0, 0], [0, 0, 0, 0, 0, 0, 0, 0, 0, 0], [0, 0, 0, 0, 0, 0, 0, 0, 0, 0], [0, 0, 0, 0, 0, 0, 0, 0, 0, 0], [0, 0, 0, 0, 0, 0, 0, 0, 0, 0], [0, 0, 0, 0, 0, 0, 0, 0, 0, 0]]\n"
          ],
          "name": "stdout"
        }
      ]
    },
    {
      "cell_type": "code",
      "metadata": {
        "id": "52EoMZ1Sv2ve"
      },
      "source": [
        "b = final_parkinglot['주차면수']\n",
        "\n",
        "# n = 면적//주차면수 \n",
        "def count_parkinglot(x, y):\n",
        "  n = (x//y)\n",
        "  return n\n",
        "\n",
        "def head_index(num1, num2, x, y):\n",
        "  #각각의 n값과, 개수 추가\n",
        "  for i in range(10):\n",
        "    if int(x) ==i:\n",
        "      head[num1][i]+=1\n",
        "      head[num2][i] +=y\n",
        "\n",
        "count =0 \n",
        "for i in a:\n",
        "  if str(i) == \"nan\" or str(b[count])== \"nan\":\n",
        "    pass\n",
        "  else:\n",
        "    if len(str(int(i))) == 2:\n",
        "      num=count_parkinglot(i, b[count])\n",
        "      head_index(0, 4, str(int(i))[0], num)\n",
        "    elif len(str(int(i))) == 3:\n",
        "      num=count_parkinglot(i, b[count])\n",
        "      head_index(1, 5, str(int(i))[0], num)\n",
        "    elif len(str(int(i))) == 4:\n",
        "      num=count_parkinglot(i, b[count])\n",
        "      head_index(2, 6, str(int(i))[0], num)\n",
        "    elif len(str(int(i))) == 5:\n",
        "      num=count_parkinglot(i, b[count])\n",
        "      head_index(3, 7, str(int(i))[0], num)\n",
        "  count+=1\n"
      ],
      "execution_count": 62,
      "outputs": []
    },
    {
      "cell_type": "code",
      "metadata": {
        "id": "VgpmPCoe9hfs",
        "outputId": "d5ca2cc4-aec9-42db-8d65-b4e4d197d6aa",
        "colab": {
          "base_uri": "https://localhost:8080/",
          "height": 161
        }
      },
      "source": [
        "head"
      ],
      "execution_count": 63,
      "outputs": [
        {
          "output_type": "execute_result",
          "data": {
            "text/plain": [
              "[[0, 0, 0, 0, 0, 0, 0, 2, 3, 0],\n",
              " [0, 11, 36, 15, 14, 14, 7, 10, 8, 6],\n",
              " [0, 40, 15, 10, 6, 2, 3, 0, 0, 0],\n",
              " [0, 0, 1, 2, 0, 0, 0, 0, 0, 0],\n",
              " [0, 0, 0, 0, 0, 0, 0, 32.0, 30.0, 0],\n",
              " [0, 260.0, 861.0, 394.0, 421.0, 406.0, 198.0, 322.0, 213.0, 192.0],\n",
              " [0, 1198.0, 456.0, 368.0, 236.0, 59.0, 158.0, 0, 0, 0],\n",
              " [0, 0, 46.0, 2598.0, 0, 0, 0, 0, 0, 0]]"
            ]
          },
          "metadata": {
            "tags": []
          },
          "execution_count": 63
        }
      ]
    },
    {
      "cell_type": "code",
      "metadata": {
        "id": "9jydeFF_APmR",
        "outputId": "98066690-f4fd-4e74-fd92-a89b14458ad3",
        "colab": {
          "base_uri": "https://localhost:8080/",
          "height": 89
        }
      },
      "source": [
        "_count =0\n",
        "_count1=3\n",
        "\n",
        "head2 =[]\n",
        "\n",
        "for i in range(4):\n",
        "  head2.append([0,0,0,0,0,0,0,0,0,0])\n",
        "\n",
        "for i in head[4:8]:\n",
        "  for j in range(10):\n",
        "    if head[_count][j]!=0:\n",
        "      head2[_count][j]=i[j]//head[_count][j]\n",
        "  _count+=1\n",
        "  _count1+=1\n",
        "  \n",
        "head2"
      ],
      "execution_count": 87,
      "outputs": [
        {
          "output_type": "execute_result",
          "data": {
            "text/plain": [
              "[[0, 0, 0, 0, 0, 0, 0, 16.0, 10.0, 0],\n",
              " [0, 23.0, 23.0, 26.0, 30.0, 29.0, 28.0, 32.0, 26.0, 32.0],\n",
              " [0, 29.0, 30.0, 36.0, 39.0, 29.0, 52.0, 0, 0, 0],\n",
              " [0, 0, 46.0, 1299.0, 0, 0, 0, 0, 0, 0]]"
            ]
          },
          "metadata": {
            "tags": []
          },
          "execution_count": 87
        }
      ]
    },
    {
      "cell_type": "code",
      "metadata": {
        "id": "EdRRKNsIupSd",
        "outputId": "c867e54e-c9ab-441c-c2ae-e0da1b094ccf",
        "colab": {
          "base_uri": "https://localhost:8080/",
          "height": 419
        }
      },
      "source": [
        "plan_parkinglot = pd.read_csv('광양시_도시계획(교통시설)_전처리.csv')\n",
        "plan_parkinglot"
      ],
      "execution_count": 88,
      "outputs": [
        {
          "output_type": "execute_result",
          "data": {
            "text/html": [
              "<div>\n",
              "<style scoped>\n",
              "    .dataframe tbody tr th:only-of-type {\n",
              "        vertical-align: middle;\n",
              "    }\n",
              "\n",
              "    .dataframe tbody tr th {\n",
              "        vertical-align: top;\n",
              "    }\n",
              "\n",
              "    .dataframe thead th {\n",
              "        text-align: right;\n",
              "    }\n",
              "</style>\n",
              "<table border=\"1\" class=\"dataframe\">\n",
              "  <thead>\n",
              "    <tr style=\"text-align: right;\">\n",
              "      <th></th>\n",
              "      <th>PRESENT_SN</th>\n",
              "      <th>DGM_NM</th>\n",
              "      <th>DGM_AR</th>\n",
              "      <th>DGM_LT</th>\n",
              "      <th>geometry</th>\n",
              "      <th>lon</th>\n",
              "      <th>lat</th>\n",
              "      <th>category</th>\n",
              "      <th>소유주체</th>\n",
              "    </tr>\n",
              "  </thead>\n",
              "  <tbody>\n",
              "    <tr>\n",
              "      <th>0</th>\n",
              "      <td>46230UQ152PS201202010003</td>\n",
              "      <td>기타 주차장시설</td>\n",
              "      <td>344</td>\n",
              "      <td>174</td>\n",
              "      <td>POINT (127.5842466468615 34.97703873009804)</td>\n",
              "      <td>127.584247</td>\n",
              "      <td>34.977039</td>\n",
              "      <td>주차장</td>\n",
              "      <td>군유지</td>\n",
              "    </tr>\n",
              "    <tr>\n",
              "      <th>1</th>\n",
              "      <td>46230UQ152PS201202010002</td>\n",
              "      <td>기타 주차장시설</td>\n",
              "      <td>483</td>\n",
              "      <td>94</td>\n",
              "      <td>POINT (127.5838975833261 34.9783680381622)</td>\n",
              "      <td>127.583898</td>\n",
              "      <td>34.978368</td>\n",
              "      <td>주차장</td>\n",
              "      <td>군유지</td>\n",
              "    </tr>\n",
              "    <tr>\n",
              "      <th>2</th>\n",
              "      <td>46230UQ152PS201202010109</td>\n",
              "      <td>노외주차장</td>\n",
              "      <td>1612</td>\n",
              "      <td>167</td>\n",
              "      <td>POINT (127.7513775866315 34.9457556003597)</td>\n",
              "      <td>127.751378</td>\n",
              "      <td>34.945756</td>\n",
              "      <td>주차장</td>\n",
              "      <td>NaN</td>\n",
              "    </tr>\n",
              "    <tr>\n",
              "      <th>3</th>\n",
              "      <td>46230UQ152PS201202010106</td>\n",
              "      <td>노외주차장</td>\n",
              "      <td>305</td>\n",
              "      <td>70</td>\n",
              "      <td>POINT (127.7027049702007 34.98893978682275)</td>\n",
              "      <td>127.702705</td>\n",
              "      <td>34.988940</td>\n",
              "      <td>주차장</td>\n",
              "      <td>군유지</td>\n",
              "    </tr>\n",
              "    <tr>\n",
              "      <th>4</th>\n",
              "      <td>46230UQ152PS201202010105</td>\n",
              "      <td>기타 주차장시설</td>\n",
              "      <td>4608</td>\n",
              "      <td>286</td>\n",
              "      <td>POINT (127.6896377942097 34.93744594755481)</td>\n",
              "      <td>127.689638</td>\n",
              "      <td>34.937446</td>\n",
              "      <td>주차장</td>\n",
              "      <td>군유지</td>\n",
              "    </tr>\n",
              "    <tr>\n",
              "      <th>...</th>\n",
              "      <td>...</td>\n",
              "      <td>...</td>\n",
              "      <td>...</td>\n",
              "      <td>...</td>\n",
              "      <td>...</td>\n",
              "      <td>...</td>\n",
              "      <td>...</td>\n",
              "      <td>...</td>\n",
              "      <td>...</td>\n",
              "    </tr>\n",
              "    <tr>\n",
              "      <th>203</th>\n",
              "      <td>46230UQ152PS201202010153</td>\n",
              "      <td>노외주차장</td>\n",
              "      <td>805</td>\n",
              "      <td>127</td>\n",
              "      <td>POINT (127.5899412601061 34.97387051256062)</td>\n",
              "      <td>127.589941</td>\n",
              "      <td>34.973871</td>\n",
              "      <td>주차장</td>\n",
              "      <td>개인</td>\n",
              "    </tr>\n",
              "    <tr>\n",
              "      <th>204</th>\n",
              "      <td>46230UQ152PS201202010143</td>\n",
              "      <td>기타 주차장시설</td>\n",
              "      <td>1244</td>\n",
              "      <td>144</td>\n",
              "      <td>POINT (127.6665902516217 34.93273694287271)</td>\n",
              "      <td>127.666590</td>\n",
              "      <td>34.932737</td>\n",
              "      <td>주차장</td>\n",
              "      <td>NaN</td>\n",
              "    </tr>\n",
              "    <tr>\n",
              "      <th>205</th>\n",
              "      <td>46230UQ152PS201202010139</td>\n",
              "      <td>노외주차장</td>\n",
              "      <td>2657</td>\n",
              "      <td>208</td>\n",
              "      <td>POINT (127.5846080438416 34.97562896258442)</td>\n",
              "      <td>127.584608</td>\n",
              "      <td>34.975629</td>\n",
              "      <td>주차장</td>\n",
              "      <td>군유지</td>\n",
              "    </tr>\n",
              "    <tr>\n",
              "      <th>206</th>\n",
              "      <td>46230UQ152PS201202010130</td>\n",
              "      <td>노외주차장</td>\n",
              "      <td>1313</td>\n",
              "      <td>142</td>\n",
              "      <td>POINT (127.6984953327121 34.92671326177527)</td>\n",
              "      <td>127.698495</td>\n",
              "      <td>34.926713</td>\n",
              "      <td>주차장</td>\n",
              "      <td>군유지</td>\n",
              "    </tr>\n",
              "    <tr>\n",
              "      <th>207</th>\n",
              "      <td>46230UQ152PS201202010126</td>\n",
              "      <td>기타 주차장시설</td>\n",
              "      <td>8636</td>\n",
              "      <td>513</td>\n",
              "      <td>POINT (127.7037515775787 35.08999790160958)</td>\n",
              "      <td>127.703752</td>\n",
              "      <td>35.089998</td>\n",
              "      <td>주차장</td>\n",
              "      <td>군유지</td>\n",
              "    </tr>\n",
              "  </tbody>\n",
              "</table>\n",
              "<p>208 rows × 9 columns</p>\n",
              "</div>"
            ],
            "text/plain": [
              "                   PRESENT_SN    DGM_NM  DGM_AR  ...        lat category  소유주체\n",
              "0    46230UQ152PS201202010003  기타 주차장시설     344  ...  34.977039      주차장   군유지\n",
              "1    46230UQ152PS201202010002  기타 주차장시설     483  ...  34.978368      주차장   군유지\n",
              "2    46230UQ152PS201202010109     노외주차장    1612  ...  34.945756      주차장   NaN\n",
              "3    46230UQ152PS201202010106     노외주차장     305  ...  34.988940      주차장   군유지\n",
              "4    46230UQ152PS201202010105  기타 주차장시설    4608  ...  34.937446      주차장   군유지\n",
              "..                        ...       ...     ...  ...        ...      ...   ...\n",
              "203  46230UQ152PS201202010153     노외주차장     805  ...  34.973871      주차장    개인\n",
              "204  46230UQ152PS201202010143  기타 주차장시설    1244  ...  34.932737      주차장   NaN\n",
              "205  46230UQ152PS201202010139     노외주차장    2657  ...  34.975629      주차장   군유지\n",
              "206  46230UQ152PS201202010130     노외주차장    1313  ...  34.926713      주차장   군유지\n",
              "207  46230UQ152PS201202010126  기타 주차장시설    8636  ...  35.089998      주차장   군유지\n",
              "\n",
              "[208 rows x 9 columns]"
            ]
          },
          "metadata": {
            "tags": []
          },
          "execution_count": 88
        }
      ]
    },
    {
      "cell_type": "code",
      "metadata": {
        "id": "7iDS5eZY43yN",
        "outputId": "d7a84c2a-f8c0-418d-b640-607706c20eb0",
        "colab": {
          "base_uri": "https://localhost:8080/",
          "height": 35
        }
      },
      "source": [
        "pp = plan_parkinglot['DGM_AR']\n",
        "s = set()\n",
        "for i in pp:\n",
        "  if str(i) == \"nan\":\n",
        "    pass\n",
        "  else:\n",
        "    z = len(str(int(i)))\n",
        "    s.add(z)\n",
        "s"
      ],
      "execution_count": 89,
      "outputs": [
        {
          "output_type": "execute_result",
          "data": {
            "text/plain": [
              "{1, 3, 4, 5}"
            ]
          },
          "metadata": {
            "tags": []
          },
          "execution_count": 89
        }
      ]
    },
    {
      "cell_type": "code",
      "metadata": {
        "id": "-gBLsDuX5NI6"
      },
      "source": [
        "final = []\n",
        "\n",
        "def count_parkinglot(num, x, y):\n",
        "  for k in range(10):\n",
        "    if int(str(x)[0]) == k:\n",
        "      if int(y[k]) == 0:\n",
        "        if len(str(x))==3:\n",
        "          final.append(17)\n",
        "        elif len(str(x))==4:\n",
        "          final.append(16)\n",
        "        elif len(str(x))==5:\n",
        "          final.append(20)\n",
        "      else:\n",
        "        n = int(x)//y[k]\n",
        "        final.append(n)\n",
        "\n",
        "for i in pp:\n",
        "  if str(i) == \"nan\" or str(i) == \"0\":\n",
        "    final.append(None)\n",
        "  else:\n",
        "    if len(str(int(i))) == 3:\n",
        "      num=count_parkinglot(1, i, head2[1])\n",
        "    elif len(str(int(i))) == 4:\n",
        "      num=count_parkinglot(2, i, head2[2])\n",
        "    elif len(str(int(i))) == 5:\n",
        "      num=count_parkinglot(3, i, head2[3])\n",
        "  count+=1\n"
      ],
      "execution_count": 176,
      "outputs": []
    },
    {
      "cell_type": "code",
      "metadata": {
        "id": "99MtIGhc8klm",
        "outputId": "222c8bbc-e432-4a27-be5d-23e7149124dd",
        "colab": {
          "base_uri": "https://localhost:8080/",
          "height": 419
        }
      },
      "source": [
        "plan_parkinglot['주차면수']= final\n",
        "\n",
        "plan_parkinglot['주차면수'].unique()\n",
        "plan_parkinglot"
      ],
      "execution_count": 177,
      "outputs": [
        {
          "output_type": "execute_result",
          "data": {
            "text/html": [
              "<div>\n",
              "<style scoped>\n",
              "    .dataframe tbody tr th:only-of-type {\n",
              "        vertical-align: middle;\n",
              "    }\n",
              "\n",
              "    .dataframe tbody tr th {\n",
              "        vertical-align: top;\n",
              "    }\n",
              "\n",
              "    .dataframe thead th {\n",
              "        text-align: right;\n",
              "    }\n",
              "</style>\n",
              "<table border=\"1\" class=\"dataframe\">\n",
              "  <thead>\n",
              "    <tr style=\"text-align: right;\">\n",
              "      <th></th>\n",
              "      <th>PRESENT_SN</th>\n",
              "      <th>DGM_NM</th>\n",
              "      <th>DGM_AR</th>\n",
              "      <th>DGM_LT</th>\n",
              "      <th>geometry</th>\n",
              "      <th>lon</th>\n",
              "      <th>lat</th>\n",
              "      <th>category</th>\n",
              "      <th>소유주체</th>\n",
              "      <th>주차면수</th>\n",
              "    </tr>\n",
              "  </thead>\n",
              "  <tbody>\n",
              "    <tr>\n",
              "      <th>0</th>\n",
              "      <td>46230UQ152PS201202010003</td>\n",
              "      <td>기타 주차장시설</td>\n",
              "      <td>344</td>\n",
              "      <td>174</td>\n",
              "      <td>POINT (127.5842466468615 34.97703873009804)</td>\n",
              "      <td>127.584247</td>\n",
              "      <td>34.977039</td>\n",
              "      <td>주차장</td>\n",
              "      <td>군유지</td>\n",
              "      <td>13.0</td>\n",
              "    </tr>\n",
              "    <tr>\n",
              "      <th>1</th>\n",
              "      <td>46230UQ152PS201202010002</td>\n",
              "      <td>기타 주차장시설</td>\n",
              "      <td>483</td>\n",
              "      <td>94</td>\n",
              "      <td>POINT (127.5838975833261 34.9783680381622)</td>\n",
              "      <td>127.583898</td>\n",
              "      <td>34.978368</td>\n",
              "      <td>주차장</td>\n",
              "      <td>군유지</td>\n",
              "      <td>16.0</td>\n",
              "    </tr>\n",
              "    <tr>\n",
              "      <th>2</th>\n",
              "      <td>46230UQ152PS201202010109</td>\n",
              "      <td>노외주차장</td>\n",
              "      <td>1612</td>\n",
              "      <td>167</td>\n",
              "      <td>POINT (127.7513775866315 34.9457556003597)</td>\n",
              "      <td>127.751378</td>\n",
              "      <td>34.945756</td>\n",
              "      <td>주차장</td>\n",
              "      <td>NaN</td>\n",
              "      <td>55.0</td>\n",
              "    </tr>\n",
              "    <tr>\n",
              "      <th>3</th>\n",
              "      <td>46230UQ152PS201202010106</td>\n",
              "      <td>노외주차장</td>\n",
              "      <td>305</td>\n",
              "      <td>70</td>\n",
              "      <td>POINT (127.7027049702007 34.98893978682275)</td>\n",
              "      <td>127.702705</td>\n",
              "      <td>34.988940</td>\n",
              "      <td>주차장</td>\n",
              "      <td>군유지</td>\n",
              "      <td>11.0</td>\n",
              "    </tr>\n",
              "    <tr>\n",
              "      <th>4</th>\n",
              "      <td>46230UQ152PS201202010105</td>\n",
              "      <td>기타 주차장시설</td>\n",
              "      <td>4608</td>\n",
              "      <td>286</td>\n",
              "      <td>POINT (127.6896377942097 34.93744594755481)</td>\n",
              "      <td>127.689638</td>\n",
              "      <td>34.937446</td>\n",
              "      <td>주차장</td>\n",
              "      <td>군유지</td>\n",
              "      <td>118.0</td>\n",
              "    </tr>\n",
              "    <tr>\n",
              "      <th>...</th>\n",
              "      <td>...</td>\n",
              "      <td>...</td>\n",
              "      <td>...</td>\n",
              "      <td>...</td>\n",
              "      <td>...</td>\n",
              "      <td>...</td>\n",
              "      <td>...</td>\n",
              "      <td>...</td>\n",
              "      <td>...</td>\n",
              "      <td>...</td>\n",
              "    </tr>\n",
              "    <tr>\n",
              "      <th>203</th>\n",
              "      <td>46230UQ152PS201202010153</td>\n",
              "      <td>노외주차장</td>\n",
              "      <td>805</td>\n",
              "      <td>127</td>\n",
              "      <td>POINT (127.5899412601061 34.97387051256062)</td>\n",
              "      <td>127.589941</td>\n",
              "      <td>34.973871</td>\n",
              "      <td>주차장</td>\n",
              "      <td>개인</td>\n",
              "      <td>30.0</td>\n",
              "    </tr>\n",
              "    <tr>\n",
              "      <th>204</th>\n",
              "      <td>46230UQ152PS201202010143</td>\n",
              "      <td>기타 주차장시설</td>\n",
              "      <td>1244</td>\n",
              "      <td>144</td>\n",
              "      <td>POINT (127.6665902516217 34.93273694287271)</td>\n",
              "      <td>127.666590</td>\n",
              "      <td>34.932737</td>\n",
              "      <td>주차장</td>\n",
              "      <td>NaN</td>\n",
              "      <td>42.0</td>\n",
              "    </tr>\n",
              "    <tr>\n",
              "      <th>205</th>\n",
              "      <td>46230UQ152PS201202010139</td>\n",
              "      <td>노외주차장</td>\n",
              "      <td>2657</td>\n",
              "      <td>208</td>\n",
              "      <td>POINT (127.5846080438416 34.97562896258442)</td>\n",
              "      <td>127.584608</td>\n",
              "      <td>34.975629</td>\n",
              "      <td>주차장</td>\n",
              "      <td>군유지</td>\n",
              "      <td>88.0</td>\n",
              "    </tr>\n",
              "    <tr>\n",
              "      <th>206</th>\n",
              "      <td>46230UQ152PS201202010130</td>\n",
              "      <td>노외주차장</td>\n",
              "      <td>1313</td>\n",
              "      <td>142</td>\n",
              "      <td>POINT (127.6984953327121 34.92671326177527)</td>\n",
              "      <td>127.698495</td>\n",
              "      <td>34.926713</td>\n",
              "      <td>주차장</td>\n",
              "      <td>군유지</td>\n",
              "      <td>45.0</td>\n",
              "    </tr>\n",
              "    <tr>\n",
              "      <th>207</th>\n",
              "      <td>46230UQ152PS201202010126</td>\n",
              "      <td>기타 주차장시설</td>\n",
              "      <td>8636</td>\n",
              "      <td>513</td>\n",
              "      <td>POINT (127.7037515775787 35.08999790160958)</td>\n",
              "      <td>127.703752</td>\n",
              "      <td>35.089998</td>\n",
              "      <td>주차장</td>\n",
              "      <td>군유지</td>\n",
              "      <td>16.0</td>\n",
              "    </tr>\n",
              "  </tbody>\n",
              "</table>\n",
              "<p>208 rows × 10 columns</p>\n",
              "</div>"
            ],
            "text/plain": [
              "                   PRESENT_SN    DGM_NM  DGM_AR  ...  category 소유주체   주차면수\n",
              "0    46230UQ152PS201202010003  기타 주차장시설     344  ...       주차장  군유지   13.0\n",
              "1    46230UQ152PS201202010002  기타 주차장시설     483  ...       주차장  군유지   16.0\n",
              "2    46230UQ152PS201202010109     노외주차장    1612  ...       주차장  NaN   55.0\n",
              "3    46230UQ152PS201202010106     노외주차장     305  ...       주차장  군유지   11.0\n",
              "4    46230UQ152PS201202010105  기타 주차장시설    4608  ...       주차장  군유지  118.0\n",
              "..                        ...       ...     ...  ...       ...  ...    ...\n",
              "203  46230UQ152PS201202010153     노외주차장     805  ...       주차장   개인   30.0\n",
              "204  46230UQ152PS201202010143  기타 주차장시설    1244  ...       주차장  NaN   42.0\n",
              "205  46230UQ152PS201202010139     노외주차장    2657  ...       주차장  군유지   88.0\n",
              "206  46230UQ152PS201202010130     노외주차장    1313  ...       주차장  군유지   45.0\n",
              "207  46230UQ152PS201202010126  기타 주차장시설    8636  ...       주차장  군유지   16.0\n",
              "\n",
              "[208 rows x 10 columns]"
            ]
          },
          "metadata": {
            "tags": []
          },
          "execution_count": 177
        }
      ]
    },
    {
      "cell_type": "code",
      "metadata": {
        "id": "bBrdCxumw_xs"
      },
      "source": [
        "plan_parkinglot.to_csv('plan_parkinglot.csv', index=False, encoding='cp949') #csv파일저장"
      ],
      "execution_count": 181,
      "outputs": []
    },
    {
      "cell_type": "markdown",
      "metadata": {
        "id": "E3o_oqrDqW0E"
      },
      "source": [
        "\n",
        "\n",
        "---\n",
        "\n",
        "\n",
        "\n",
        "---\n",
        "\n",
        "\n",
        "\n",
        "---\n",
        "\n",
        "\n",
        "\n",
        "---\n",
        "\n",
        "\n",
        "\n",
        "---\n",
        "\n"
      ]
    },
    {
      "cell_type": "code",
      "metadata": {
        "id": "UzIJ0vDi6REP",
        "outputId": "4e8e7fc6-d9dd-425a-ded0-2d58f25f2be0",
        "colab": {
          "base_uri": "https://localhost:8080/",
          "height": 35
        }
      },
      "source": [
        "print(len(len_3), len(len_4), len(len_5))"
      ],
      "execution_count": null,
      "outputs": [
        {
          "output_type": "stream",
          "text": [
            "84 120 3\n"
          ],
          "name": "stdout"
        }
      ]
    },
    {
      "cell_type": "code",
      "metadata": {
        "id": "bWMvscTq7Q_u",
        "outputId": "1ed24aa0-0626-4789-ea74-87fefd2396a4",
        "colab": {
          "base_uri": "https://localhost:8080/",
          "height": 35
        }
      },
      "source": [
        "dic2= { \"3\":0, \"4\":0, \"5\":0}\n",
        "\n",
        "n = sum(len_3)//len(len_3)\n",
        "dic2['3']=n\n",
        "\n",
        "n = sum(len_4)//len(len_4)\n",
        "dic2['4']=n\n",
        "\n",
        "n = sum(len_5)//len(len_5)\n",
        "dic2['5']=n\n",
        "\n",
        "dic2"
      ],
      "execution_count": null,
      "outputs": [
        {
          "output_type": "execute_result",
          "data": {
            "text/plain": [
              "{'3': 17.0, '4': 16.0, '5': 20.0}"
            ]
          },
          "metadata": {
            "tags": []
          },
          "execution_count": 82
        }
      ]
    }
  ]
}